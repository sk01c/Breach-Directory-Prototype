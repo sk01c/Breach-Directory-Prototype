import pandas as pd
import tkinter as tk
from tkinter import messagebox, simpledialog


# Function to get input from user with a prompt
def get_input(prompt):
    return simpledialog.askstring("Input", prompt)

# Function to get yes/no input from user with a prompt
def get_yes_no(prompt):
    return "yes" if messagebox.askyesno("Input", prompt) else "no"

# Function to get input from user with predefined options
def get_option(prompt, options):
    return simpledialog.askstring("Input", f"{prompt}\nOptions: {', '.join(options)}") if options else None

# Function to get numeric input from user with a prompt
def get_numeric_input(prompt):
    return simpledialog.askinteger("Input", prompt)

# Function to append data to the data dictionary
def append_data(data, keys, values):
    for key, value in zip(keys, values):
        data[key].append(value)

# Function to update the breach log display
# Function to update the breach log display
def update_breach_log_display(df, text_widget):
    text_widget.config(state=tk.NORMAL)
    text_widget.delete(1.0, tk.END)

    # Get column headings
    headers = list(df.columns)

    # Format data
    formatted_data = []
    for index, row in df.iterrows():
        formatted_row = "\n".join([f"{header}: {row[header]}" for header in headers])
        formatted_data.append(formatted_row)

    # Concatenate headers with corresponding values
    formatted_text = "\n\n".join(formatted_data)

    # Insert formatted text into text widget
    text_widget.insert(tk.END, formatted_text)

    text_widget.config(state=tk.DISABLED)

# Function to collect breach data from user
def collect_breach_data(root, text_widget):
    # Initialize data dictionary
    data = {
        'Names': [],
        'Self Declared': [],
        'Nature of Discovery': [],
        'Dates': [],
        'Entities': [],
        'Department': [],
        'Breach Category': [],
        'MNPI': [],
        'Root Cause Analysis': [],
        'Data/Financial Loss': [],
        'Internal Conflict': [],
        'Intentional Misuse of Confidential Data': [],
        'Customer Detriment': [],
        'Market Impact': [],
        'Reputational Impact': [],
        'Risk Score': [],
        'Risk Rating': []
    }

    while True:
        # Collect self-declared information
        self_declared = get_yes_no("Was this incident self-declared?")
        append_data(data, ['Self Declared'], [self_declared])

        # Collect nature of discovery if not self-declared
        if self_declared == "no":
            nature_of_discovery = get_option("Nature of Discovery:", ["Data from HR", "Data from internal audit",
                                                                      "Data from external audit", "Other"])
            append_data(data, ['Nature of Discovery'], [nature_of_discovery])
        else:
            append_data(data, ['Nature of Discovery'], [""])

        # Collect general breach information
        names = get_input("Name of the person under investigation:")
        dates = get_input("Date of the incident (dd/mm/yyyy):")
        entities = get_input("Entity where the incident took place:")
        department = get_input("Department in which the incident occurred:")
        breach_category = get_input("Breach Category:")
        # Append collected data to the data dictionary
        append_data(data, ['Names', 'Dates', 'Entities', 'Department', 'Breach Category'],
                    [names, dates, entities, department, breach_category])

        # Notify about data loss
        if get_yes_no("Did this breach result in data loss?") == "yes":
            messagebox.showinfo("Information", "Contact ITSD to ensure the issue is resolved.")

        # Collect MNPI information
        append_data(data, ['MNPI'], [get_yes_no("Was MNPI involved?")])

        # Collect root cause analysis
        root_cause = get_option("Root Cause Analysis:", ["Human Error", "Negligence", "Intentional", "Process Error", "Other"])
        append_data(data, ['Root Cause Analysis'], [root_cause])

        # Collect severity ratings
        criteria = ['Data/Financial Loss', 'Internal Conflict', 'Intentional Misuse of Confidential Data',
                    'Customer Detriment', 'Market Impact', 'Reputational Impact']
        weights = {'Data/Financial Loss': 7, 'Internal Conflict': 3, 'Intentional Misuse of Confidential Data': 8,
                   'Customer Detriment': 8, 'Market Impact': 8, 'Reputational Impact': 5}
        severity_ratings = {crit: get_numeric_input(f"Severity of '{crit}' (0-10):") for crit in criteria}
        for crit, severity in severity_ratings.items():
            data[crit].append(severity)

        # Check if user wants to continue entering data
        if get_yes_no("Continue entering data?") != 'yes':
            break

    # Ensure all arrays have the same length
    max_length = max(len(values) for values in data.values())
    for key, values in data.items():
        while len(values) < max_length:
            data[key].append("")

    # Calculate total risk score and risk rating
    total_risk_score = [sum(data[crit][i] * weights[crit] for crit in criteria if isinstance(data[crit][i], int)) for i in range(len(data['Names']))]
    risk_ratings = ["High" if score > 80 else "Medium" if score > 40 else "Low" for score in total_risk_score]

    # Update data dictionary with risk score and rating
    data['Risk Score'] = total_risk_score
    data['Risk Rating'] = risk_ratings

    # Create DataFrame from data dictionary
    df = pd.DataFrame(data)

    # Update breach log display
    update_breach_log_display(df, text_widget)

    # Save data to CSV file
    with open('breach_log.csv', 'a') as f:
        df.to_csv(f, index=False, header=f.tell() == 0)

    # Display completion message
    messagebox.showinfo("Information", "Breach log updated.")

# Main function
def main():
    root = tk.Tk()
    root.title("Breach Directory")

    # Title label
    title_label = tk.Label(root, text="Breach Directory", font=("Helvetica", 16, "bold"))
    title_label.pack(pady=10)

    # Text widget for breach log display
    text_widget = tk.Text(root, height=20, width=150)
    text_widget.pack(padx=10, pady=10)

    # Collect breach data
    collect_breach_data(root, text_widget)

    root.mainloop()

# Run main function if the script is executed directly
if __name__ == "__main__":
    main()
